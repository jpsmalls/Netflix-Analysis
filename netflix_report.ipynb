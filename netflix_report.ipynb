{
 "cells": [
  {
   "cell_type": "code",
   "execution_count": 47,
   "id": "ab8fbbed",
   "metadata": {},
   "outputs": [],
   "source": [
    "import pandas as pd\n",
    "import matplotlib.pyplot as plt\n",
    "from sklearn.model_selection import train_test_split\n",
    "from sklearn.preprocessing import LabelEncoder\n",
    "from sklearn.metrics import accuracy_score\n",
    "from sklearn.linear_model import LogisticRegression\n",
    "from sklearn.neighbors import KNeighborsClassifier\n",
    "from sklearn.tree import DecisionTreeClassifier\n"
   ]
  },
  {
   "cell_type": "code",
   "execution_count": 48,
   "id": "55a4ae4d",
   "metadata": {},
   "outputs": [],
   "source": [
    "netflix_data = pd.read_csv('/Users/juliopuebla/Desktop/Shivani/netflix_titles.csv')"
   ]
  },
  {
   "cell_type": "code",
   "execution_count": 49,
   "id": "1043a3d4",
   "metadata": {},
   "outputs": [
    {
     "data": {
      "text/html": [
       "<div>\n",
       "<style scoped>\n",
       "    .dataframe tbody tr th:only-of-type {\n",
       "        vertical-align: middle;\n",
       "    }\n",
       "\n",
       "    .dataframe tbody tr th {\n",
       "        vertical-align: top;\n",
       "    }\n",
       "\n",
       "    .dataframe thead th {\n",
       "        text-align: right;\n",
       "    }\n",
       "</style>\n",
       "<table border=\"1\" class=\"dataframe\">\n",
       "  <thead>\n",
       "    <tr style=\"text-align: right;\">\n",
       "      <th></th>\n",
       "      <th>show_id</th>\n",
       "      <th>type</th>\n",
       "      <th>title</th>\n",
       "      <th>director</th>\n",
       "      <th>cast</th>\n",
       "      <th>country</th>\n",
       "      <th>date_added</th>\n",
       "      <th>release_year</th>\n",
       "      <th>rating</th>\n",
       "      <th>duration</th>\n",
       "      <th>listed_in</th>\n",
       "      <th>description</th>\n",
       "    </tr>\n",
       "  </thead>\n",
       "  <tbody>\n",
       "    <tr>\n",
       "      <th>0</th>\n",
       "      <td>s1</td>\n",
       "      <td>TV Show</td>\n",
       "      <td>3%</td>\n",
       "      <td>NaN</td>\n",
       "      <td>João Miguel, Bianca Comparato, Michel Gomes, R...</td>\n",
       "      <td>Brazil</td>\n",
       "      <td>August 14, 2020</td>\n",
       "      <td>2020</td>\n",
       "      <td>TV-MA</td>\n",
       "      <td>4 Seasons</td>\n",
       "      <td>International TV Shows, TV Dramas, TV Sci-Fi &amp;...</td>\n",
       "      <td>In a future where the elite inhabit an island ...</td>\n",
       "    </tr>\n",
       "    <tr>\n",
       "      <th>1</th>\n",
       "      <td>s2</td>\n",
       "      <td>Movie</td>\n",
       "      <td>7:19</td>\n",
       "      <td>Jorge Michel Grau</td>\n",
       "      <td>Demián Bichir, Héctor Bonilla, Oscar Serrano, ...</td>\n",
       "      <td>Mexico</td>\n",
       "      <td>December 23, 2016</td>\n",
       "      <td>2016</td>\n",
       "      <td>TV-MA</td>\n",
       "      <td>93 min</td>\n",
       "      <td>Dramas, International Movies</td>\n",
       "      <td>After a devastating earthquake hits Mexico Cit...</td>\n",
       "    </tr>\n",
       "    <tr>\n",
       "      <th>2</th>\n",
       "      <td>s3</td>\n",
       "      <td>Movie</td>\n",
       "      <td>23:59</td>\n",
       "      <td>Gilbert Chan</td>\n",
       "      <td>Tedd Chan, Stella Chung, Henley Hii, Lawrence ...</td>\n",
       "      <td>Singapore</td>\n",
       "      <td>December 20, 2018</td>\n",
       "      <td>2011</td>\n",
       "      <td>R</td>\n",
       "      <td>78 min</td>\n",
       "      <td>Horror Movies, International Movies</td>\n",
       "      <td>When an army recruit is found dead, his fellow...</td>\n",
       "    </tr>\n",
       "    <tr>\n",
       "      <th>3</th>\n",
       "      <td>s4</td>\n",
       "      <td>Movie</td>\n",
       "      <td>9</td>\n",
       "      <td>Shane Acker</td>\n",
       "      <td>Elijah Wood, John C. Reilly, Jennifer Connelly...</td>\n",
       "      <td>United States</td>\n",
       "      <td>November 16, 2017</td>\n",
       "      <td>2009</td>\n",
       "      <td>PG-13</td>\n",
       "      <td>80 min</td>\n",
       "      <td>Action &amp; Adventure, Independent Movies, Sci-Fi...</td>\n",
       "      <td>In a postapocalyptic world, rag-doll robots hi...</td>\n",
       "    </tr>\n",
       "    <tr>\n",
       "      <th>4</th>\n",
       "      <td>s5</td>\n",
       "      <td>Movie</td>\n",
       "      <td>21</td>\n",
       "      <td>Robert Luketic</td>\n",
       "      <td>Jim Sturgess, Kevin Spacey, Kate Bosworth, Aar...</td>\n",
       "      <td>United States</td>\n",
       "      <td>January 1, 2020</td>\n",
       "      <td>2008</td>\n",
       "      <td>PG-13</td>\n",
       "      <td>123 min</td>\n",
       "      <td>Dramas</td>\n",
       "      <td>A brilliant group of students become card-coun...</td>\n",
       "    </tr>\n",
       "    <tr>\n",
       "      <th>...</th>\n",
       "      <td>...</td>\n",
       "      <td>...</td>\n",
       "      <td>...</td>\n",
       "      <td>...</td>\n",
       "      <td>...</td>\n",
       "      <td>...</td>\n",
       "      <td>...</td>\n",
       "      <td>...</td>\n",
       "      <td>...</td>\n",
       "      <td>...</td>\n",
       "      <td>...</td>\n",
       "      <td>...</td>\n",
       "    </tr>\n",
       "    <tr>\n",
       "      <th>7782</th>\n",
       "      <td>s7783</td>\n",
       "      <td>Movie</td>\n",
       "      <td>Zozo</td>\n",
       "      <td>Josef Fares</td>\n",
       "      <td>Imad Creidi, Antoinette Turk, Elias Gergi, Car...</td>\n",
       "      <td>Sweden, Czech Republic, United Kingdom, Denmar...</td>\n",
       "      <td>October 19, 2020</td>\n",
       "      <td>2005</td>\n",
       "      <td>TV-MA</td>\n",
       "      <td>99 min</td>\n",
       "      <td>Dramas, International Movies</td>\n",
       "      <td>When Lebanon's Civil War deprives Zozo of his ...</td>\n",
       "    </tr>\n",
       "    <tr>\n",
       "      <th>7783</th>\n",
       "      <td>s7784</td>\n",
       "      <td>Movie</td>\n",
       "      <td>Zubaan</td>\n",
       "      <td>Mozez Singh</td>\n",
       "      <td>Vicky Kaushal, Sarah-Jane Dias, Raaghav Chanan...</td>\n",
       "      <td>India</td>\n",
       "      <td>March 2, 2019</td>\n",
       "      <td>2015</td>\n",
       "      <td>TV-14</td>\n",
       "      <td>111 min</td>\n",
       "      <td>Dramas, International Movies, Music &amp; Musicals</td>\n",
       "      <td>A scrappy but poor boy worms his way into a ty...</td>\n",
       "    </tr>\n",
       "    <tr>\n",
       "      <th>7784</th>\n",
       "      <td>s7785</td>\n",
       "      <td>Movie</td>\n",
       "      <td>Zulu Man in Japan</td>\n",
       "      <td>NaN</td>\n",
       "      <td>Nasty C</td>\n",
       "      <td>NaN</td>\n",
       "      <td>September 25, 2020</td>\n",
       "      <td>2019</td>\n",
       "      <td>TV-MA</td>\n",
       "      <td>44 min</td>\n",
       "      <td>Documentaries, International Movies, Music &amp; M...</td>\n",
       "      <td>In this documentary, South African rapper Nast...</td>\n",
       "    </tr>\n",
       "    <tr>\n",
       "      <th>7785</th>\n",
       "      <td>s7786</td>\n",
       "      <td>TV Show</td>\n",
       "      <td>Zumbo's Just Desserts</td>\n",
       "      <td>NaN</td>\n",
       "      <td>Adriano Zumbo, Rachel Khoo</td>\n",
       "      <td>Australia</td>\n",
       "      <td>October 31, 2020</td>\n",
       "      <td>2019</td>\n",
       "      <td>TV-PG</td>\n",
       "      <td>1 Season</td>\n",
       "      <td>International TV Shows, Reality TV</td>\n",
       "      <td>Dessert wizard Adriano Zumbo looks for the nex...</td>\n",
       "    </tr>\n",
       "    <tr>\n",
       "      <th>7786</th>\n",
       "      <td>s7787</td>\n",
       "      <td>Movie</td>\n",
       "      <td>ZZ TOP: THAT LITTLE OL' BAND FROM TEXAS</td>\n",
       "      <td>Sam Dunn</td>\n",
       "      <td>NaN</td>\n",
       "      <td>United Kingdom, Canada, United States</td>\n",
       "      <td>March 1, 2020</td>\n",
       "      <td>2019</td>\n",
       "      <td>TV-MA</td>\n",
       "      <td>90 min</td>\n",
       "      <td>Documentaries, Music &amp; Musicals</td>\n",
       "      <td>This documentary delves into the mystique behi...</td>\n",
       "    </tr>\n",
       "  </tbody>\n",
       "</table>\n",
       "<p>7787 rows × 12 columns</p>\n",
       "</div>"
      ],
      "text/plain": [
       "     show_id     type                                    title  \\\n",
       "0         s1  TV Show                                       3%   \n",
       "1         s2    Movie                                     7:19   \n",
       "2         s3    Movie                                    23:59   \n",
       "3         s4    Movie                                        9   \n",
       "4         s5    Movie                                       21   \n",
       "...      ...      ...                                      ...   \n",
       "7782   s7783    Movie                                     Zozo   \n",
       "7783   s7784    Movie                                   Zubaan   \n",
       "7784   s7785    Movie                        Zulu Man in Japan   \n",
       "7785   s7786  TV Show                    Zumbo's Just Desserts   \n",
       "7786   s7787    Movie  ZZ TOP: THAT LITTLE OL' BAND FROM TEXAS   \n",
       "\n",
       "               director                                               cast  \\\n",
       "0                   NaN  João Miguel, Bianca Comparato, Michel Gomes, R...   \n",
       "1     Jorge Michel Grau  Demián Bichir, Héctor Bonilla, Oscar Serrano, ...   \n",
       "2          Gilbert Chan  Tedd Chan, Stella Chung, Henley Hii, Lawrence ...   \n",
       "3           Shane Acker  Elijah Wood, John C. Reilly, Jennifer Connelly...   \n",
       "4        Robert Luketic  Jim Sturgess, Kevin Spacey, Kate Bosworth, Aar...   \n",
       "...                 ...                                                ...   \n",
       "7782        Josef Fares  Imad Creidi, Antoinette Turk, Elias Gergi, Car...   \n",
       "7783        Mozez Singh  Vicky Kaushal, Sarah-Jane Dias, Raaghav Chanan...   \n",
       "7784                NaN                                            Nasty C   \n",
       "7785                NaN                         Adriano Zumbo, Rachel Khoo   \n",
       "7786           Sam Dunn                                                NaN   \n",
       "\n",
       "                                                country          date_added  \\\n",
       "0                                                Brazil     August 14, 2020   \n",
       "1                                                Mexico   December 23, 2016   \n",
       "2                                             Singapore   December 20, 2018   \n",
       "3                                         United States   November 16, 2017   \n",
       "4                                         United States     January 1, 2020   \n",
       "...                                                 ...                 ...   \n",
       "7782  Sweden, Czech Republic, United Kingdom, Denmar...    October 19, 2020   \n",
       "7783                                              India       March 2, 2019   \n",
       "7784                                                NaN  September 25, 2020   \n",
       "7785                                          Australia    October 31, 2020   \n",
       "7786              United Kingdom, Canada, United States       March 1, 2020   \n",
       "\n",
       "      release_year rating   duration  \\\n",
       "0             2020  TV-MA  4 Seasons   \n",
       "1             2016  TV-MA     93 min   \n",
       "2             2011      R     78 min   \n",
       "3             2009  PG-13     80 min   \n",
       "4             2008  PG-13    123 min   \n",
       "...            ...    ...        ...   \n",
       "7782          2005  TV-MA     99 min   \n",
       "7783          2015  TV-14    111 min   \n",
       "7784          2019  TV-MA     44 min   \n",
       "7785          2019  TV-PG   1 Season   \n",
       "7786          2019  TV-MA     90 min   \n",
       "\n",
       "                                              listed_in  \\\n",
       "0     International TV Shows, TV Dramas, TV Sci-Fi &...   \n",
       "1                          Dramas, International Movies   \n",
       "2                   Horror Movies, International Movies   \n",
       "3     Action & Adventure, Independent Movies, Sci-Fi...   \n",
       "4                                                Dramas   \n",
       "...                                                 ...   \n",
       "7782                       Dramas, International Movies   \n",
       "7783     Dramas, International Movies, Music & Musicals   \n",
       "7784  Documentaries, International Movies, Music & M...   \n",
       "7785                 International TV Shows, Reality TV   \n",
       "7786                    Documentaries, Music & Musicals   \n",
       "\n",
       "                                            description  \n",
       "0     In a future where the elite inhabit an island ...  \n",
       "1     After a devastating earthquake hits Mexico Cit...  \n",
       "2     When an army recruit is found dead, his fellow...  \n",
       "3     In a postapocalyptic world, rag-doll robots hi...  \n",
       "4     A brilliant group of students become card-coun...  \n",
       "...                                                 ...  \n",
       "7782  When Lebanon's Civil War deprives Zozo of his ...  \n",
       "7783  A scrappy but poor boy worms his way into a ty...  \n",
       "7784  In this documentary, South African rapper Nast...  \n",
       "7785  Dessert wizard Adriano Zumbo looks for the nex...  \n",
       "7786  This documentary delves into the mystique behi...  \n",
       "\n",
       "[7787 rows x 12 columns]"
      ]
     },
     "execution_count": 49,
     "metadata": {},
     "output_type": "execute_result"
    }
   ],
   "source": [
    "netflix_data"
   ]
  },
  {
   "cell_type": "code",
   "execution_count": 50,
   "id": "829ba701",
   "metadata": {},
   "outputs": [
    {
     "data": {
      "text/plain": [
       "show_id            0\n",
       "type               0\n",
       "title              0\n",
       "director        2389\n",
       "cast             718\n",
       "country          507\n",
       "date_added        10\n",
       "release_year       0\n",
       "rating             7\n",
       "duration           0\n",
       "listed_in          0\n",
       "description        0\n",
       "dtype: int64"
      ]
     },
     "execution_count": 50,
     "metadata": {},
     "output_type": "execute_result"
    }
   ],
   "source": [
    "netflix_data.isnull().sum()"
   ]
  },
  {
   "cell_type": "code",
   "execution_count": 51,
   "id": "7f1a58fb",
   "metadata": {},
   "outputs": [],
   "source": [
    "# Clean data: Remove rows with missing 'date_added', 'rating', or 'type'\n",
    "\n",
    "netflix_data.dropna(subset=['date_added', 'rating', 'type'], inplace=True)"
   ]
  },
  {
   "cell_type": "code",
   "execution_count": 52,
   "id": "0f721751",
   "metadata": {},
   "outputs": [
    {
     "name": "stdout",
     "output_type": "stream",
     "text": [
      "United States     2546\n",
      "India              923\n",
      "United Kingdom     396\n",
      "Japan              224\n",
      "South Korea        183\n",
      "Canada             177\n",
      "Spain              134\n",
      "France             115\n",
      "Egypt              101\n",
      "Turkey             100\n",
      "Name: country, dtype: int64\n"
     ]
    }
   ],
   "source": [
    "# 1. Understanding what content is available in different countries\n",
    "# This shows which countries have the most titles, indicating Netflix's market focus or content availability.\n",
    "\n",
    "print(netflix_data['country'].value_counts().head(10))"
   ]
  },
  {
   "cell_type": "code",
   "execution_count": 62,
   "id": "5b53fc86",
   "metadata": {},
   "outputs": [
    {
     "data": {
      "image/png": "[encoded data removed]",
      "text/plain": [
       "<Figure size 640x480 with 1 Axes>"
      ]
     },
     "metadata": {},
     "output_type": "display_data"
    }
   ],
   "source": [
    "# 2. Netflix's focus on TV vs. Movies\n",
    "# The plot shows trends in Netflix's catalog, revealing if there's a shift\n",
    "# towards TV shows or movies over the years.\n",
    "\n",
    "netflix_data['year_added'] = pd.to_datetime(netflix_data['date_added']).dt.year\n",
    "netflix_data.groupby(['year_added', 'type']).size().unstack().plot(kind='line')\n",
    "plt.title('Number of TV Shows and Movies Added Over the Years')\n",
    "plt.ylabel('Number of Titles')\n",
    "plt.show()"
   ]
  },
  {
   "cell_type": "markdown",
   "id": "71f0d228",
   "metadata": {},
   "source": [
    "It's true, Netflix has indeed been focusing more on TV shows compared to movies in the recent years, especially around and after 2018."
   ]
  },
  {
   "cell_type": "code",
   "execution_count": 85,
   "id": "1ae7349f",
   "metadata": {},
   "outputs": [],
   "source": [
    "# 3. and 4. Predict the Type and Model Comparison\n",
    "# Using features like 'year_added', 'rating_encoded', and 'weekday_added' to predict if a title is a TV show or movie.\n",
    "# The model accuracies will show which algorithm performs best at this task.\n",
    "\n",
    "netflix_data['weekday_added'] = pd.to_datetime(netflix_data['date_added']).dt.weekday\n",
    "netflix_data['rating_encoded'] = LabelEncoder().fit_transform(netflix_data['rating'])\n",
    "X = netflix_data[['year_added', 'rating_encoded', 'weekday_added']]\n",
    "y = netflix_data['type']\n",
    "\n"
   ]
  },
  {
   "cell_type": "code",
   "execution_count": 68,
   "id": "4b088570",
   "metadata": {},
   "outputs": [],
   "source": [
    "# Splitting dataset into training and test sets\n",
    "X_train, X_test, y_train, y_test = train_test_split(X, y, test_size=0.25, random_state=42)\n",
    "\n",
    "# Decision Tree Model\n",
    "dt_model = DecisionTreeClassifier()\n",
    "dt_model.fit(X_train, y_train)\n",
    "dt_accuracy = accuracy_score(y_test, dt_model.predict(X_test))\n",
    "\n",
    "# Logistic Regression Model\n",
    "lr_model = LogisticRegression(max_iter=1000)\n",
    "lr_model.fit(X_train, y_train)\n",
    "lr_accuracy = accuracy_score(y_test, lr_model.predict(X_test))\n",
    "\n",
    "# KNN Model\n",
    "knn_model = KNeighborsClassifier()\n",
    "knn_model.fit(X_train, y_train)\n",
    "knn_accuracy = accuracy_score(y_test, knn_model.predict(X_test))\n",
    "\n"
   ]
  },
  {
   "cell_type": "code",
   "execution_count": 76,
   "id": "aaaf6684",
   "metadata": {},
   "outputs": [
    {
     "name": "stdout",
     "output_type": "stream",
     "text": [
      "Decision Tree Accuracy: 0.7153885743695316\n",
      "Logistic Regression Accuracy: 0.700977869274318\n",
      "KNN Accuracy: 0.680905815748842\n"
     ]
    }
   ],
   "source": [
    "print(\"Decision Tree Accuracy:\", dt_accuracy)\n",
    "print(\"Logistic Regression Accuracy:\", lr_accuracy)\n",
    "print(\"KNN Accuracy:\", knn_accuracy)"
   ]
  },
  {
   "cell_type": "markdown",
   "id": "18dedcbd",
   "metadata": {},
   "source": [
    "Decision Tree Accuracy outperforms the others."
   ]
  },
  {
   "cell_type": "code",
   "execution_count": 81,
   "id": "923aac4f",
   "metadata": {},
   "outputs": [
    {
     "name": "stdout",
     "output_type": "stream",
     "text": [
      "Logistic Regression Accuracy: 0.7308750687947165\n",
      "KNN Accuracy: 0.7649972482113374\n",
      "Decision Tree Accuracy: 0.7699504678040726\n"
     ]
    }
   ],
   "source": [
    "# Adding feature of Country to the mix\n",
    "# Data Cleaning\n",
    "netflix_data.dropna(subset=['date_added', 'rating', 'type', 'country'], inplace=True)\n",
    "\n",
    "# Feature Engineering\n",
    "netflix_data['year_added'] = pd.to_datetime(netflix_data['date_added']).dt.year\n",
    "netflix_data['weekday_added'] = pd.to_datetime(netflix_data['date_added']).dt.weekday\n",
    "netflix_data['rating_encoded'] = LabelEncoder().fit_transform(netflix_data['rating'])\n",
    "\n",
    "# Handling 'country' - simple approach: take the first country listed\n",
    "netflix_data['primary_country'] = netflix_data['country'].apply(lambda x: x.split(',')[0])\n",
    "netflix_data['country_encoded'] = LabelEncoder().fit_transform(netflix_data['primary_country'])\n",
    "\n",
    "# Feature Selection\n",
    "X = netflix_data[['year_added', 'rating_encoded', 'weekday_added', 'country_encoded']]\n",
    "y = netflix_data['type']\n",
    "\n",
    "# Splitting the dataset\n",
    "X_train, X_test, y_train, y_test = train_test_split(X, y, test_size=0.25, random_state=42)\n",
    "\n",
    "# Train and Evaluate Models\n",
    "models = {\n",
    "    \"Logistic Regression\": LogisticRegression(max_iter=1000),\n",
    "    \"KNN\": KNeighborsClassifier(),\n",
    "    \"Decision Tree\": DecisionTreeClassifier()\n",
    "}\n",
    "\n",
    "for name, model in models.items():\n",
    "    model.fit(X_train, y_train)\n",
    "    accuracy = accuracy_score(y_test, model.predict(X_test))\n",
    "    print(f\"{name} Accuracy: {accuracy}\")\n"
   ]
  },
  {
   "cell_type": "markdown",
   "id": "489dd078",
   "metadata": {},
   "source": [
    "Decision Tree and KKN Accuracy are performing better."
   ]
  },
  {
   "cell_type": "code",
   "execution_count": 67,
   "id": "5612cb37",
   "metadata": {},
   "outputs": [
    {
     "data": {
      "image/png": "[encoded data removed]",
      "text/plain": [
       "<Figure size 640x480 with 1 Axes>"
      ]
     },
     "metadata": {},
     "output_type": "display_data"
    }
   ],
   "source": [
    "# 5. How can Netflix's recommendation system be improved based on what is seen?\n",
    "# Analyzing the most common ratings on Netflix\n",
    "common_ratings = netflix_data['rating'].value_counts().head(5)\n",
    "common_ratings.plot(kind='bar')\n",
    "plt.title('Top 5 Most Common Ratings on Netflix')\n",
    "plt.ylabel('Number of Titles')\n",
    "plt.show()"
   ]
  },
  {
   "cell_type": "markdown",
   "id": "c0592a8a",
   "metadata": {},
   "source": [
    "- Focus on Mature Content: Since TV-MA (Mature Audience) is the most common rating, it implies a significant portion of Netflix's audience prefers mature content. Netflix could prioritize acquiring or producing more TV-MA-rated shows and movies, as these seem to resonate with their current viewer base."
   ]
  },
  {
   "cell_type": "code",
   "execution_count": 88,
   "id": "54a515e9",
   "metadata": {},
   "outputs": [
    {
     "data": {
      "image/png": "[encoded data removed]",
      "text/plain": [
       "<Figure size 640x480 with 1 Axes>"
      ]
     },
     "metadata": {},
     "output_type": "display_data"
    }
   ],
   "source": [
    "# Analyzing Preferred Launch Weekday\n",
    "netflix_data['weekday_added'] = pd.to_datetime(netflix_data['date_added']).dt.day_name()\n",
    "weekday_counts = netflix_data['weekday_added'].value_counts()\n",
    "weekday_counts.plot(kind='bar')\n",
    "plt.title('Number of Titles Added per Weekday')\n",
    "plt.ylabel('Number of Titles')\n",
    "plt.show()\n"
   ]
  },
  {
   "cell_type": "markdown",
   "id": "a15f7b34",
   "metadata": {},
   "source": [
    "\n",
    "- Strategic Release Timing: With Friday being the most popular day for adding new titles, it suggests that viewers might be more inclined to explore new content at the end of the week, possibly due to the weekend ahead. Netflix could leverage this insight by scheduling the release of highly anticipated titles or genres that perform well on Fridays to maximize viewership and engagement."
   ]
  },
  {
   "cell_type": "code",
   "execution_count": null,
   "id": "8242363d",
   "metadata": {},
   "outputs": [],
   "source": []
  }
 ],
 "metadata": {
  "kernelspec": {
   "display_name": "Python 3 (ipykernel)",
   "language": "python",
   "name": "python3"
  },
  "language_info": {
   "codemirror_mode": {
    "name": "ipython",
    "version": 3
   },
   "file_extension": ".py",
   "mimetype": "text/x-python",
   "name": "python",
   "nbconvert_exporter": "python",
   "pygments_lexer": "ipython3",
   "version": "3.11.4"
  }
 },
 "nbformat": 4,
 "nbformat_minor": 5
}
